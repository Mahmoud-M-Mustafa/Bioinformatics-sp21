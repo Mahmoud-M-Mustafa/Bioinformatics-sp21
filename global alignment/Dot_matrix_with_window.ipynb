{
 "cells": [
  {
   "cell_type": "code",
   "execution_count": 2,
   "metadata": {},
   "outputs": [],
   "source": [
    "\n",
    "import matplotlib.pyplot as plt\n",
    "import matplotlib.ticker as ticker\n",
    "import numpy as np \n",
    "import math\n",
    "from Bio.Seq import Seq"
   ]
  },
  {
   "cell_type": "code",
   "execution_count": 3,
   "metadata": {},
   "outputs": [],
   "source": [
    "def windowfunc(seq1,seq2,thrsh):\n",
    "\t'''\n",
    "\tComputes whether to draw a dot or not \n",
    "\t'''\n",
    "\tcounter=0\n",
    "\tfor i in range(len(seq1)):\n",
    "\t\tif seq1[i]==seq2[i]:\n",
    "\t\t\tcounter+=1\n",
    "\treturn thrsh <= counter"
   ]
  },
  {
   "cell_type": "code",
   "execution_count": 9,
   "metadata": {},
   "outputs": [],
   "source": [
    "def Dot_Matrix(seq1,seq2,step,window,thrsh):\n",
    "\t\n",
    "\t'''\n",
    "\t    calculates the final matrix \n",
    "\t'''\n",
    "\tindexes=[]\n",
    "\t\n",
    "\tfor i in range(0,len(seq2)-window+step,step):\n",
    "\t\tfor j in range(0,len(seq1)-window+step,step):\n",
    "\t\t\tif windowfunc(seq1[j:j+window],seq2[i:i+window], thrsh):\n",
    "\t\t\t\tfinal_matrix[math.ceil((i+window/2))-1][math.ceil((j+window/2))-1]=1\n",
    "\t\t\t\tindexes.append([math.ceil((i+window/2)-1),math.ceil((j+window/2))-1])\n",
    "\treturn indexes"
   ]
  },
  {
   "cell_type": "code",
   "execution_count": 5,
   "metadata": {},
   "outputs": [],
   "source": [
    "def optimal_line(arr):\n",
    "\t'''\n",
    "    Chose the optimal line of maximum dots\n",
    "\t'''\n",
    "\tfor i in range(len(arr)):\n",
    "\t\tfor j in range(i,len(arr)):\n",
    "\t\t\tif (arr[i][1] != arr[j][1]):\n",
    "\t\t\t\tif(((arr[i][0]-arr[j][0])/(arr[i][1]-arr[j][1]))==1):\n",
    "\t\t\t\t\tarr[i].append(arr[j][0])\n",
    "\t\t\t\t\tarr[i].append(arr[j][1])\n",
    "\t_max=[]\n",
    "\tfor i in arr:\n",
    "\t\tif len(i)> len(_max):\n",
    "\t\t\t_max=i\n",
    "\n",
    "\treturn _max\n",
    "\n"
   ]
  },
  {
   "cell_type": "code",
   "execution_count": 6,
   "metadata": {},
   "outputs": [],
   "source": [
    "\n",
    "#-------print matrix in console--------------\n",
    "\n",
    "def print_matrix(seq1,seq2,final_matrix):\n",
    "\t''' prints the final dot matrix in console'''\n",
    "\tprint(\" \",end=\"\")\n",
    "\tfor i in seq1:\n",
    "\t\tprint(\"\",i,end=\"\")\n",
    "\tprint(\"\")\n",
    "\tfor i in range(len(final_matrix)):\n",
    "\t\tprint(seq2[i],end=\"\")\n",
    "\t\tprint(final_matrix[i])\n"
   ]
  },
  {
   "cell_type": "code",
   "execution_count": 7,
   "metadata": {},
   "outputs": [],
   "source": [
    "#------ print alignment------------\n",
    "def print_alignment(seq1,seq2,line):\n",
    "\t''' prints the alignment in console '''\n",
    "\tprint(\" \\n alignment :   \")\n",
    "\tif line[0]== line[1]:\n",
    "\t\tprint (seq1)\n",
    "\t\tprint(seq2)\n",
    "\telif line[0]> line[1]:\n",
    "\t\tprint(\" \"*(line[0]-1),end=\"\")\n",
    "\t\tprint(seq1)\n",
    "\t\tprint(seq2)\n",
    "\t\n",
    "\telif line[0]<line[1]:\n",
    "\t\tprint(seq1)\n",
    "\t\tprint(\" \"*(line[1]-1),end=\"\")\n",
    "\t\tprint(seq2)\n",
    "\n"
   ]
  },
  {
   "cell_type": "code",
   "execution_count": 8,
   "metadata": {},
   "outputs": [],
   "source": [
    "\n",
    "#-------------- visual plot -----------------\n",
    "def plot_matrix(seq1,seq2,final_matrix):\n",
    "\t''' plot the final dot matrix using matplot lib \n",
    "\t'''\n",
    "\tplt.rcParams[\"figure.figsize\"] = 4, 5\n",
    "\tparam = {\"grid.linewidth\": 1.6,\n",
    "\t         \"grid.color\": \"lightgray\",\n",
    "\t         \"axes.linewidth\": 1.6,\n",
    "\t         \"axes.edgecolor\": \"lightgray\"}\n",
    "\tplt.rcParams.update(param)\n",
    "\t\n",
    "\t# Data\n",
    "\theadh = seq1\n",
    "\theadv = seq2\n",
    "\t\n",
    "\tv= final_matrix\n",
    "\tfig, ax = plt.subplots()\n",
    "\tax.set_xlim(-1.5, v.shape[1] - .5)\n",
    "\tax.set_ylim(-1.5, v.shape[0] - .5)\n",
    "\tax.invert_yaxis()\n",
    "\tfor i in range(v.shape[0]):\n",
    "\t    for j in range(v.shape[1]):\n",
    "\t        if v[i,j]==1:\n",
    "\t            ax.text(j, i, v[i, j], ha=\"center\", va=\"center\",bbox={'facecolor': 'red', 'alpha': 0.5, 'pad': 1})\n",
    "\t        else:\n",
    "\t            ax.text(j, i, v[i, j], ha=\"center\", va=\"center\")\n",
    "\tfor i, l in enumerate(headh):\n",
    "\t    ax.text(i , -1, l, ha=\"center\", va=\"center\", fontweight=\"semibold\")\n",
    "\tfor i, l in enumerate(headv):\n",
    "\t    ax.text(-1, i , l, ha=\"center\", va=\"center\", fontweight=\"semibold\")\n",
    "\t\n",
    "\tax.xaxis.set_minor_locator(ticker.FixedLocator(\n",
    "\t    np.arange(-1.5, v.shape[1] - .5, 1)))\n",
    "\tax.yaxis.set_minor_locator(ticker.FixedLocator(\n",
    "\t    np.arange(-1.5, v.shape[1] - .5, 1)))\n",
    "\tplt.tick_params(axis='both', which='both', bottom='off', top='off',\n",
    "\t                left=\"off\", right=\"off\", labelbottom='off', labelleft='off')\n",
    "\tax.grid(True, which='minor')\n",
    "\t\n",
    "\t\n",
    "\t\n",
    "\t\n",
    "\t# draw optimal line\n",
    "\tax.arrow(line[1], line[0], line[-1]-line[1],line[-2]-line[0])\n",
    "\tplt.show()\n",
    "\t"
   ]
  },
  {
   "cell_type": "code",
   "execution_count": 10,
   "metadata": {},
   "outputs": [],
   "source": [
    "seq1=\"ACCTTGTCCAG\"\n",
    "seq2=\"ACGTACCTTTA\"\n",
    "final_matrix = np.zeros((len(seq2), len(seq1)), dtype=int)\n",
    "indexes=Dot_Matrix(seq1,seq2,2,3,1)\n",
    "line=optimal_line(indexes)"
   ]
  },
  {
   "cell_type": "code",
   "execution_count": 11,
   "metadata": {},
   "outputs": [
    {
     "name": "stdout",
     "output_type": "stream",
     "text": [
      "  A C C T T G T C C A G\n",
      "A[0 0 0 0 0 0 0 0 0 0 0]\n",
      "C[0 1 0 0 0 0 0 1 0 1 0]\n",
      "G[0 0 0 0 0 0 0 0 0 0 0]\n",
      "T[0 0 0 1 0 0 0 0 0 0 0]\n",
      "A[0 0 0 0 0 0 0 0 0 0 0]\n",
      "C[0 1 0 0 0 0 0 1 0 0 0]\n",
      "C[0 0 0 0 0 0 0 0 0 0 0]\n",
      "T[0 0 0 1 0 1 0 0 0 1 0]\n",
      "T[0 0 0 0 0 0 0 0 0 0 0]\n",
      "T[0 0 0 1 0 1 0 1 0 0 0]\n",
      "A[0 0 0 0 0 0 0 0 0 0 0]\n"
     ]
    }
   ],
   "source": [
    "print_matrix(seq1,seq2,final_matrix)"
   ]
  },
  {
   "cell_type": "code",
   "execution_count": 13,
   "metadata": {},
   "outputs": [
    {
     "data": {
      "image/png": "[encoded data removed]",
      "text/plain": [
       "<Figure size 288x360 with 1 Axes>"
      ]
     },
     "metadata": {
      "needs_background": "light"
     },
     "output_type": "display_data"
    }
   ],
   "source": [
    "plot_matrix(seq1,seq2,final_matrix)"
   ]
  },
  {
   "cell_type": "code",
   "execution_count": 12,
   "metadata": {},
   "outputs": [
    {
     "name": "stdout",
     "output_type": "stream",
     "text": [
      " \n",
      " alignment :   \n",
      "    ACCTTGTCCAG\n",
      "ACGTACCTTTA\n"
     ]
    }
   ],
   "source": [
    "print_alignment(seq1,seq2,line)"
   ]
  },
  {
   "cell_type": "code",
   "execution_count": 17,
   "metadata": {},
   "outputs": [],
   "source": [
    "seq1=\"ACCTTGTCCTCTTTGCCC\"\n",
    "seq2=\"ACGTTGACCTGTAACCTC\"\n",
    "final_matrix = np.zeros((len(seq2), len(seq1)), dtype=int)\n",
    "indexes=Dot_Matrix(seq1,seq2,3,9,4)\n",
    "line=optimal_line(indexes)"
   ]
  },
  {
   "cell_type": "code",
   "execution_count": 18,
   "metadata": {},
   "outputs": [
    {
     "name": "stdout",
     "output_type": "stream",
     "text": [
      "  A C C T T G T C C T C T T T G C C C\n",
      "A[0 0 0 0 0 0 0 0 0 0 0 0 0 0 0 0 0 0]\n",
      "C[0 0 0 0 0 0 0 0 0 0 0 0 0 0 0 0 0 0]\n",
      "G[0 0 0 0 0 0 0 0 0 0 0 0 0 0 0 0 0 0]\n",
      "T[0 0 0 0 0 0 0 0 0 0 0 0 0 0 0 0 0 0]\n",
      "T[0 0 0 0 1 0 0 0 0 0 0 0 0 1 0 0 0 0]\n",
      "G[0 0 0 0 0 0 0 0 0 0 0 0 0 0 0 0 0 0]\n",
      "A[0 0 0 0 0 0 0 0 0 0 0 0 0 0 0 0 0 0]\n",
      "C[0 0 0 0 0 0 0 1 0 0 0 0 0 0 0 0 0 0]\n",
      "C[0 0 0 0 0 0 0 0 0 0 0 0 0 0 0 0 0 0]\n",
      "T[0 0 0 0 0 0 0 0 0 0 0 0 0 0 0 0 0 0]\n",
      "G[0 0 0 0 1 0 0 0 0 0 1 0 0 0 0 0 0 0]\n",
      "T[0 0 0 0 0 0 0 0 0 0 0 0 0 0 0 0 0 0]\n",
      "A[0 0 0 0 0 0 0 0 0 0 0 0 0 0 0 0 0 0]\n",
      "A[0 0 0 0 0 0 0 0 0 0 0 0 0 1 0 0 0 0]\n",
      "C[0 0 0 0 0 0 0 0 0 0 0 0 0 0 0 0 0 0]\n",
      "C[0 0 0 0 0 0 0 0 0 0 0 0 0 0 0 0 0 0]\n",
      "T[0 0 0 0 0 0 0 0 0 0 0 0 0 0 0 0 0 0]\n",
      "C[0 0 0 0 0 0 0 0 0 0 0 0 0 0 0 0 0 0]\n"
     ]
    }
   ],
   "source": [
    "print_matrix(seq1,seq2,final_matrix)"
   ]
  },
  {
   "cell_type": "code",
   "execution_count": 19,
   "metadata": {},
   "outputs": [
    {
     "name": "stdout",
     "output_type": "stream",
     "text": [
      " \n",
      " alignment :   \n",
      "ACCTTGTCCTCTTTGCCC\n",
      "ACGTTGACCTGTAACCTC\n"
     ]
    }
   ],
   "source": [
    "print_alignment(seq1,seq2,line)"
   ]
  },
  {
   "cell_type": "code",
   "execution_count": 20,
   "metadata": {},
   "outputs": [
    {
     "data": {
      "image/png": "[encoded data removed]",
      "text/plain": [
       "<Figure size 288x360 with 1 Axes>"
      ]
     },
     "metadata": {
      "needs_background": "light"
     },
     "output_type": "display_data"
    }
   ],
   "source": [
    "plot_matrix(seq1,seq2,final_matrix)"
   ]
  }
 ],
 "metadata": {
  "kernelspec": {
   "display_name": "Python 3",
   "language": "python",
   "name": "python3"
  },
  "language_info": {
   "codemirror_mode": {
    "name": "ipython",
    "version": 3
   },
   "file_extension": ".py",
   "mimetype": "text/x-python",
   "name": "python",
   "nbconvert_exporter": "python",
   "pygments_lexer": "ipython3",
   "version": "3.8.5"
  }
 },
 "nbformat": 4,
 "nbformat_minor": 4
}
