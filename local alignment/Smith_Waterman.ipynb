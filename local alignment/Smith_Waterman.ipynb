{
 "cells": [
  {
   "cell_type": "code",
   "execution_count": 1,
   "metadata": {},
   "outputs": [],
   "source": [
    "import matplotlib.pyplot as plt\n",
    "import matplotlib.ticker as ticker\n",
    "import numpy as np\n",
    "from Bio.Seq import Seq"
   ]
  },
  {
   "cell_type": "code",
   "execution_count": 2,
   "metadata": {},
   "outputs": [],
   "source": [
    "matching = 5\n",
    "mismatching = -2\n",
    "gap = -6\n",
    "arrows = None\n",
    "_max=-1\n",
    "max_loc=[]  # pair of the location of the heighest value"
   ]
  },
  {
   "cell_type": "code",
   "execution_count": 3,
   "metadata": {},
   "outputs": [],
   "source": [
    "def match_chars(A, B):\n",
    "    if A == B:\n",
    "        return matching\n",
    "    else:\n",
    "        return mismatching"
   ]
  },
  {
   "cell_type": "code",
   "execution_count": 14,
   "metadata": {},
   "outputs": [],
   "source": [
    "\n",
    "def Smith_Waterman(seq1, seq2):\n",
    "    global max_loc,_max\n",
    "    m, n = len(seq2), len(seq1)  # length of two sequences\n",
    "\n",
    "    dt = np.dtype([('diagonal', np.str, 1),\n",
    "                   ('up', np.str, 1), ('left', np.str, 1)])\n",
    "\n",
    "    dir_matrix = np.zeros((m + 1, n + 1), dtype=dt)\n",
    "\n",
    "\n",
    "    final_matrix = np.zeros((m + 1, n + 1), dtype=int)      # the DP table\n",
    "    # Calculate DynamicProgramming table\n",
    "    for i in range(0, m + 1):\n",
    "        final_matrix[i][0] = 0\n",
    "        dir_matrix[i][0]['up'] = 'U'\n",
    "    for j in range(0, n + 1):\n",
    "        final_matrix[0][j] = 0\n",
    "        dir_matrix[0][j]['left'] = 'L'\n",
    "    for i in range(1, m + 1):\n",
    "        for j in range(1, n + 1):\n",
    "            diagonal = final_matrix[i - 1][j - 1] + \\\n",
    "                match_chars(seq2[i - 1], seq1[j - 1])\n",
    "            up = final_matrix[i - 1][j] + gap\n",
    "            left = final_matrix[i][j - 1] + gap\n",
    "            max_pointer = max(diagonal, up, left,0)\n",
    "            final_matrix[i][j] = max_pointer\n",
    "            if (diagonal == max_pointer):\n",
    "                dir_matrix[i][j]['diagonal'] = 'D'\n",
    "            if (up == max_pointer):\n",
    "                dir_matrix[i][j]['up'] = 'U'\n",
    "            if (left == max_pointer):\n",
    "                dir_matrix[i][j]['left'] = 'L'\n",
    "            if _max <= max_pointer:\n",
    "            \tmax_loc=[i,j]\n",
    "            \t_max=max_pointer\n",
    "\n",
    "    # Traceback and compute the alignment\n",
    "    align1, align2 = '', ''\n",
    "    i, j = max_loc[0], max_loc[1]  # start from the heighest value\n",
    "    a = np.array([[0, 0, 0, 0]])\n",
    "    score_current = final_matrix[i][j]\n",
    "    first = True\n",
    "    global arrows\n",
    "    while score_current>0:  # 0 reached\n",
    "        score_current = final_matrix[i][j]\n",
    "        score_diagonal = final_matrix[i - 1][j - 1]\n",
    "        score_up = final_matrix[i][j - 1]\n",
    "        score_left = final_matrix[i - 1][j]\n",
    "        #print(\"current \",i,j,end='')\n",
    "        a[:, :2] = j, i\n",
    "        if score_current == score_diagonal + match_chars(seq2[i - 1], seq1[j - 1]):\n",
    "            align1 += seq2[i - 1]\n",
    "            align2 += seq1[j - 1]\n",
    "            i -= 1\n",
    "            j -= 1\n",
    "        elif score_current == score_left + gap:\n",
    "            align1 += seq2[i - 1]\n",
    "            align2 += '-'\n",
    "            i -= 1\n",
    "        elif score_current == score_up + gap:\n",
    "            align1 += '-'\n",
    "            align2 += seq1[j - 1]\n",
    "            j -= 1\n",
    "        a[:, 2:] = j, i\n",
    "        if first:\n",
    "            # First loop copy a\n",
    "            arrows = np.copy(a)\n",
    "            first = False\n",
    "        else:\n",
    "            # Concatenate origin-target\n",
    "            arrows = np.concatenate((arrows, a), axis=0)\n",
    "    a[:, :2] = a[:, 2:]\n",
    "\n",
    "    return final_matrix, dir_matrix,align2,align1\n"
   ]
  },
  {
   "cell_type": "code",
   "execution_count": 5,
   "metadata": {},
   "outputs": [],
   "source": [
    "\n",
    "def plot(seq1,seq2,final_matrix,dir_matrix):\n",
    "\n",
    "\t# input Data\n",
    "\theadh = seq1\n",
    "\theadv = seq2\n",
    "\t\n",
    "\t# ---------------Plot-------------------------\n",
    "\tplt.rcParams[\"figure.figsize\"] = 4, 5\n",
    "\tparam = {\"grid.linewidth\": 1.6,\n",
    "\t         \"grid.color\": \"lightgray\",\n",
    "\t         \"axes.linewidth\": 1.6,\n",
    "\t         \"axes.edgecolor\": \"lightgray\"}\n",
    "\tplt.rcParams.update(param)\n",
    "\t\n",
    "\t\n",
    "\tfig, ax = plt.subplots()\n",
    "\tax.set_xlim(-1.5, final_matrix.shape[1] - .5)\n",
    "\tax.set_ylim(-1.5, final_matrix.shape[0] - .5)\n",
    "\tax.invert_yaxis()\n",
    "\tfor i in range(final_matrix.shape[0]):\n",
    "\t    for j in range(final_matrix.shape[1]):\n",
    "\t        ax.text(j, i, final_matrix[i, j], ha=\"center\", va=\"center\")\n",
    "\tfor i, l in enumerate(headh):\n",
    "\t    ax.text(i + 1, -1, l, ha=\"center\", va=\"center\", fontweight=\"semibold\")\n",
    "\tfor i, l in enumerate(headv):\n",
    "\t    ax.text(-1, i + 1, l, ha=\"center\", va=\"center\", fontweight=\"semibold\")\n",
    "\t\n",
    "\tax.xaxis.set_minor_locator(ticker.FixedLocator(\n",
    "\t    np.arange(-1.5, final_matrix.shape[1] - .5, 1)))\n",
    "\tax.yaxis.set_minor_locator(ticker.FixedLocator(\n",
    "\t    np.arange(-1.5, final_matrix.shape[1] - .5, 1)))\n",
    "\tplt.tick_params(axis='both', which='both', bottom='off', top='off',\n",
    "\t                left=\"off\", right=\"off\", labelbottom='off', labelleft='off')\n",
    "\tax.grid(True, which='minor')\n",
    "\t\n",
    "\t\n",
    "\tarrowprops = dict(facecolor='blue', alpha=0.5, lw=0,\n",
    "\t                  shrink=0.2, width=2, headwidth=7, headlength=7)\n",
    "\t\n",
    "\t# all paths\n",
    "\tfor i in range(1, dir_matrix.shape[0]):\n",
    "\t    for j in range(1, dir_matrix.shape[1]):\n",
    "\t        if(dir_matrix[i][j]['left'] != ''):\n",
    "\t            ax.annotate(\"\", xy=(j - 1, i),\n",
    "\t                        xytext=(j, i), arrowprops=arrowprops)\n",
    "\t        if(dir_matrix[i][j]['diagonal'] != ''):\n",
    "\t            ax.annotate(\"\", xy=(j - 1, i - 1),\n",
    "\t                        xytext=(j, i), arrowprops=arrowprops)\n",
    "\t        if(dir_matrix[i][j]['up'] != ''):\n",
    "\t            ax.annotate(\"\", xy=(j, i - 1),\n",
    "\t                        xytext=(j, i), arrowprops=arrowprops)\n",
    "\t\n",
    "\t# optimal path\n",
    "\tarrowprops.update(facecolor='red')\n",
    "\tfor i in range(arrows.shape[0]):\n",
    "\t    ax.annotate(\"\", xy=arrows[i, 2:],\n",
    "\t                xytext=arrows[i, :2], arrowprops=arrowprops)\n",
    "\tplt.show()"
   ]
  },
  {
   "cell_type": "code",
   "execution_count": 20,
   "metadata": {},
   "outputs": [],
   "source": [
    "#-----------------------Example 1--------------------------------\n",
    "seq1 = Seq(\"TGCTCGTA\")\n",
    "seq2 = Seq(\"TTCATA\")\n",
    "final_matrix, dir_matrix,aligned2,aligned1 = Smith_Waterman(seq1, seq2)"
   ]
  },
  {
   "cell_type": "code",
   "execution_count": 8,
   "metadata": {},
   "outputs": [
    {
     "name": "stdout",
     "output_type": "stream",
     "text": [
      "Local Alignment:\n",
      "\t\t\t\t TCGTA\n",
      "\t\t\t\t TCATA\n"
     ]
    }
   ],
   "source": [
    "print(\"Local Alignment:\")\n",
    "print(\"\\t\"*4,aligned2[::-1])\n",
    "print(\"\\t\"*4,aligned1[::-1])"
   ]
  },
  {
   "cell_type": "code",
   "execution_count": 9,
   "metadata": {},
   "outputs": [
    {
     "data": {
      "image/png": "[encoded data removed]",
      "text/plain": [
       "<Figure size 288x360 with 1 Axes>"
      ]
     },
     "metadata": {
      "needs_background": "light"
     },
     "output_type": "display_data"
    }
   ],
   "source": [
    "plot(seq1,seq2,final_matrix,dir_matrix)"
   ]
  },
  {
   "cell_type": "code",
   "execution_count": 19,
   "metadata": {},
   "outputs": [],
   "source": [
    "#-----------------------Example 1--------------------------------\n",
    "matching = 1\n",
    "mismatching = -1\n",
    "gap = -2\n",
    "arrows = None\n",
    "_max=-1\n",
    "max_loc=[]  # pair of the location of the heighest value"
   ]
  },
  {
   "cell_type": "code",
   "execution_count": 16,
   "metadata": {},
   "outputs": [],
   "source": [
    "seq1 = Seq(\"GGTTGACTA\")\n",
    "seq2 = Seq(\"TGTTACGG\")\n",
    "final_matrix, dir_matrix,aligned2,aligned1 = Smith_Waterman(seq1, seq2)"
   ]
  },
  {
   "cell_type": "code",
   "execution_count": 17,
   "metadata": {},
   "outputs": [
    {
     "name": "stdout",
     "output_type": "stream",
     "text": [
      "Local Alignment:\n",
      "\t\t\t\t GTTGAC\n",
      "\t\t\t\t GTT-AC\n"
     ]
    }
   ],
   "source": [
    "print(\"Local Alignment:\")\n",
    "print(\"\\t\"*4,aligned2[::-1])\n",
    "print(\"\\t\"*4,aligned1[::-1])"
   ]
  },
  {
   "cell_type": "code",
   "execution_count": 18,
   "metadata": {},
   "outputs": [
    {
     "data": {
      "image/png": "[encoded data removed]",
      "text/plain": [
       "<Figure size 288x360 with 1 Axes>"
      ]
     },
     "metadata": {
      "needs_background": "light"
     },
     "output_type": "display_data"
    }
   ],
   "source": [
    "plot(seq1,seq2,final_matrix,dir_matrix)"
   ]
  }
 ],
 "metadata": {
  "kernelspec": {
   "display_name": "Python 3",
   "language": "python",
   "name": "python3"
  },
  "language_info": {
   "codemirror_mode": {
    "name": "ipython",
    "version": 3
   },
   "file_extension": ".py",
   "mimetype": "text/x-python",
   "name": "python",
   "nbconvert_exporter": "python",
   "pygments_lexer": "ipython3",
   "version": "3.8.5"
  }
 },
 "nbformat": 4,
 "nbformat_minor": 4
}
